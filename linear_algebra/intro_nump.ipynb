{
 "cells": [
  {
   "cell_type": "code",
   "execution_count": 2,
   "id": "initial_id",
   "metadata": {
    "collapsed": true,
    "ExecuteTime": {
     "end_time": "2024-04-01T18:21:37.979804Z",
     "start_time": "2024-04-01T18:21:35.832014Z"
    }
   },
   "outputs": [],
   "source": [
    "import numpy as np\n",
    "import matplotlib.pyplot as plt\n",
    "import pandas as pd\n",
    "import math\n",
    "import typing\n"
   ]
  },
  {
   "cell_type": "markdown",
   "source": [
    "The flexible types of python comes with a cost. Since each item in the list must contained its own type"
   ],
   "metadata": {
    "collapsed": false
   },
   "id": "de7c37af466633dc"
  },
  {
   "cell_type": "markdown",
   "source": [
    "### Fixed Type Arrays\n",
    "Numpy arrays contained only one type of data. Usually integers. \n"
   ],
   "metadata": {
    "collapsed": false
   },
   "id": "eb8d24b72d19b484"
  },
  {
   "cell_type": "code",
   "outputs": [
    {
     "data": {
      "text/plain": "array([[0, 0],\n       [0, 0],\n       [0, 0],\n       [0, 0],\n       [0, 0]], dtype=int32)"
     },
     "execution_count": 8,
     "metadata": {},
     "output_type": "execute_result"
    }
   ],
   "source": [
    "np.zeros(10 , dtype=np.int32).reshape([5,2])"
   ],
   "metadata": {
    "collapsed": false,
    "ExecuteTime": {
     "end_time": "2024-04-01T18:22:36.857182Z",
     "start_time": "2024-04-01T18:22:36.851346Z"
    }
   },
   "id": "7344f777fff77ffb",
   "execution_count": 8
  },
  {
   "cell_type": "markdown",
   "source": [],
   "metadata": {
    "collapsed": false
   },
   "id": "d94dc9a50435ac4d"
  },
  {
   "cell_type": "code",
   "outputs": [],
   "source": [
    "rgn = np.random.default_rng(seed=1701)\n",
    "x1 = rgn.integers(10, size=6)\n",
    "x2 = rgn.integers(10, size=(3, 4))"
   ],
   "metadata": {
    "collapsed": false,
    "ExecuteTime": {
     "end_time": "2024-04-01T18:29:41.154557Z",
     "start_time": "2024-04-01T18:29:41.151999Z"
    }
   },
   "id": "b490fad7fc58312b",
   "execution_count": 19
  },
  {
   "cell_type": "code",
   "outputs": [
    {
     "name": "stdout",
     "output_type": "stream",
     "text": [
      "1 (6,) 6 int64\n"
     ]
    }
   ],
   "source": [
    "print(x1.ndim,\n",
    "x1.shape, \n",
    "x1.size,\n",
    "x1.dtype)"
   ],
   "metadata": {
    "collapsed": false,
    "ExecuteTime": {
     "end_time": "2024-04-01T18:27:36.104618Z",
     "start_time": "2024-04-01T18:27:36.101037Z"
    }
   },
   "id": "2dd6735f6d49711a",
   "execution_count": 15
  },
  {
   "cell_type": "markdown",
   "source": [
    "Array indexing"
   ],
   "metadata": {
    "collapsed": false
   },
   "id": "3a45e8f30f003df3"
  },
  {
   "cell_type": "code",
   "outputs": [
    {
     "data": {
      "text/plain": "0"
     },
     "execution_count": 20,
     "metadata": {},
     "output_type": "execute_result"
    }
   ],
   "source": [
    "x2[2, 1]"
   ],
   "metadata": {
    "collapsed": false,
    "ExecuteTime": {
     "end_time": "2024-04-01T18:29:44.952664Z",
     "start_time": "2024-04-01T18:29:44.947391Z"
    }
   },
   "id": "6e295ab5aff602b3",
   "execution_count": 20
  },
  {
   "cell_type": "code",
   "outputs": [
    {
     "data": {
      "text/plain": "array([9, 0, 8])"
     },
     "execution_count": 22,
     "metadata": {},
     "output_type": "execute_result"
    }
   ],
   "source": [
    "x1[::2]"
   ],
   "metadata": {
    "collapsed": false,
    "ExecuteTime": {
     "end_time": "2024-04-01T18:31:34.795638Z",
     "start_time": "2024-04-01T18:31:34.791324Z"
    }
   },
   "id": "fcdb629db3591d37",
   "execution_count": 22
  },
  {
   "cell_type": "markdown",
   "source": [
    "Numpy arrays are returned as views not copies. We can use the copy function to make changes to only few parts but not changing the original array. \n",
    "\n",
    "* Resaphing an array\n",
    "*   We can use the reshape function and specify how many rows and columns"
   ],
   "metadata": {
    "collapsed": false
   },
   "id": "bf469e4a4d9a32e8"
  },
  {
   "cell_type": "code",
   "outputs": [
    {
     "data": {
      "text/plain": "array([[1, 2, 3, 1, 2, 3],\n       [4, 5, 6, 4, 5, 6]])"
     },
     "execution_count": 24,
     "metadata": {},
     "output_type": "execute_result"
    }
   ],
   "source": [
    "x = np.array([1, 2, 3])\n",
    "y = np.array([3, 2, 1])\n",
    "np.concatenate([x, y])\n",
    "# we can also specify where or what axis we want to concatenate our data. \n",
    "grid = np.array([[1, 2, 3],\n",
    "                 [4, 5, 6]])\n",
    "np.concatenate([grid, grid], axis=1)"
   ],
   "metadata": {
    "collapsed": false,
    "ExecuteTime": {
     "end_time": "2024-04-01T18:53:14.312548Z",
     "start_time": "2024-04-01T18:53:14.308923Z"
    }
   },
   "id": "c53213131cd33935",
   "execution_count": 24
  },
  {
   "cell_type": "markdown",
   "source": [],
   "metadata": {
    "collapsed": false
   },
   "id": "fb40f9e9f0bd5876"
  },
  {
   "cell_type": "code",
   "outputs": [
    {
     "data": {
      "text/plain": "array([[1, 2, 3],\n       [1, 2, 3],\n       [4, 5, 6]])"
     },
     "execution_count": 26,
     "metadata": {},
     "output_type": "execute_result"
    }
   ],
   "source": [
    "# its better to use vstack or hstack for arrays of different dimensions. \n",
    "np.vstack([x, grid])"
   ],
   "metadata": {
    "collapsed": false,
    "ExecuteTime": {
     "end_time": "2024-04-01T18:55:04.890362Z",
     "start_time": "2024-04-01T18:55:04.886929Z"
    }
   },
   "id": "569ab272740092e9",
   "execution_count": 26
  },
  {
   "cell_type": "code",
   "outputs": [
    {
     "data": {
      "text/plain": "array([[ 1,  2,  3, 99],\n       [ 4,  5,  6, 99]])"
     },
     "execution_count": 28,
     "metadata": {},
     "output_type": "execute_result"
    }
   ],
   "source": [
    "y = np.array([[99],\n",
    "              [99]])\n",
    "np.hstack([grid, y])"
   ],
   "metadata": {
    "collapsed": false,
    "ExecuteTime": {
     "end_time": "2024-04-01T18:56:07.045089Z",
     "start_time": "2024-04-01T18:56:07.041955Z"
    }
   },
   "id": "b2b338a71d214cf9",
   "execution_count": 28
  },
  {
   "cell_type": "markdown",
   "source": [
    "### Splitting Arrays\n",
    "We can use the split, vsplit and hsplit functions to split array into subarrays"
   ],
   "metadata": {
    "collapsed": false
   },
   "id": "b726b592d8970cd"
  },
  {
   "cell_type": "code",
   "outputs": [
    {
     "name": "stdout",
     "output_type": "stream",
     "text": [
      "[1] [ 2  3 99 99  3] [2 1]\n"
     ]
    }
   ],
   "source": [
    "x = [1, 2, 3, 99, 99, 3, 2, 1]\n",
    "x1, x2, x3 = np.split(x, [1, 6])\n",
    "print(x1, x2, x3)"
   ],
   "metadata": {
    "collapsed": false,
    "ExecuteTime": {
     "end_time": "2024-04-01T19:03:47.255564Z",
     "start_time": "2024-04-01T19:03:47.252710Z"
    }
   },
   "id": "2b4cb38671ee0ba0",
   "execution_count": 48
  },
  {
   "cell_type": "markdown",
   "source": [
    "## Computational Power\n",
    "Vectorize operations using Ufuncts. This is more efficient for processing \n",
    "\n",
    "The arithmetic operations in numpy are wrappers. Meaning that, each time we use +  - / we are using the wrapper for functions such as add, substract, divide. \n",
    "\n",
    "We can also use scipy.special. This module contains functions that are useful for mathematical operations. \n",
    "\n"
   ],
   "metadata": {
    "collapsed": false
   },
   "id": "dffd31ab94977f47"
  },
  {
   "cell_type": "markdown",
   "source": [
    "## Agregation"
   ],
   "metadata": {
    "collapsed": false
   },
   "id": "41dcef98c0ad0ea6"
  },
  {
   "cell_type": "code",
   "outputs": [
    {
     "data": {
      "text/plain": "49.12521715012502"
     },
     "execution_count": 69,
     "metadata": {},
     "output_type": "execute_result"
    }
   ],
   "source": [
    "### Summing Array of data\n",
    "rng = np.random.default_rng(125)\n",
    "L = rng.random(100)\n",
    "np.sum(L)\n"
   ],
   "metadata": {
    "collapsed": false,
    "ExecuteTime": {
     "end_time": "2024-04-01T19:28:37.734820Z",
     "start_time": "2024-04-01T19:28:37.732314Z"
    }
   },
   "id": "190a8f9f39373c15",
   "execution_count": 69
  }
 ],
 "metadata": {
  "kernelspec": {
   "display_name": "Python 3",
   "language": "python",
   "name": "python3"
  },
  "language_info": {
   "codemirror_mode": {
    "name": "ipython",
    "version": 2
   },
   "file_extension": ".py",
   "mimetype": "text/x-python",
   "name": "python",
   "nbconvert_exporter": "python",
   "pygments_lexer": "ipython2",
   "version": "2.7.6"
  }
 },
 "nbformat": 4,
 "nbformat_minor": 5
}
