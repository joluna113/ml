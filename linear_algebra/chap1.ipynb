{
 "cells": [
  {
   "cell_type": "markdown",
   "source": [
    "\n",
    "\n",
    "Orientation is giving by brackets\n",
    "Shapes of vectors are real numbers\n",
    "Dimensions are always (rows, Columns)\n",
    "\n",
    "\n",
    "\n",
    "\n",
    "\n"
   ],
   "metadata": {
    "collapsed": false
   },
   "id": "d6c7ce29a1e13b4a"
  },
  {
   "cell_type": "code",
   "outputs": [],
   "source": [],
   "metadata": {
    "collapsed": false,
    "ExecuteTime": {
     "end_time": "2024-04-08T19:00:31.781714Z",
     "start_time": "2024-04-08T19:00:31.779899Z"
    }
   },
   "id": "1c7793408981aba1",
   "execution_count": 1
  },
  {
   "cell_type": "code",
   "execution_count": 2,
   "id": "initial_id",
   "metadata": {
    "collapsed": true,
    "ExecuteTime": {
     "end_time": "2024-04-08T19:00:32.034059Z",
     "start_time": "2024-04-08T19:00:31.783259Z"
    }
   },
   "outputs": [],
   "source": [
    "import numpy as np"
   ]
  },
  {
   "cell_type": "code",
   "outputs": [
    {
     "data": {
      "text/plain": "array([1, 2, 3, 4], dtype=int32)"
     },
     "execution_count": 3,
     "metadata": {},
     "output_type": "execute_result"
    }
   ],
   "source": [
    "asArray = np.array([1,2,3,4], dtype=np.int32)\n",
    "asArray\n"
   ],
   "metadata": {
    "collapsed": false,
    "ExecuteTime": {
     "end_time": "2024-04-08T19:00:32.044013Z",
     "start_time": "2024-04-08T19:00:32.036116Z"
    }
   },
   "id": "a66ee2a2cea026ae",
   "execution_count": 3
  },
  {
   "cell_type": "code",
   "outputs": [
    {
     "data": {
      "text/plain": "array([[1, 2, 3]])"
     },
     "execution_count": 4,
     "metadata": {},
     "output_type": "execute_result"
    }
   ],
   "source": [
    "rowVec = np.array([ [1,2,3] ]) # row\n",
    "rowVec"
   ],
   "metadata": {
    "collapsed": false,
    "ExecuteTime": {
     "end_time": "2024-04-08T19:00:32.050344Z",
     "start_time": "2024-04-08T19:00:32.046019Z"
    }
   },
   "id": "25e24eb343b287df",
   "execution_count": 4
  },
  {
   "cell_type": "code",
   "outputs": [
    {
     "ename": "NameError",
     "evalue": "name 'm' is not defined",
     "output_type": "error",
     "traceback": [
      "\u001B[0;31m---------------------------------------------------------------------------\u001B[0m",
      "\u001B[0;31mNameError\u001B[0m                                 Traceback (most recent call last)",
      "Cell \u001B[0;32mIn[5], line 7\u001B[0m\n\u001B[1;32m      4\u001B[0m v \u001B[38;5;241m=\u001B[39m np\u001B[38;5;241m.\u001B[39marray([[\u001B[38;5;241m4\u001B[39m,\u001B[38;5;241m5\u001B[39m,\u001B[38;5;241m6\u001B[39m]])\n\u001B[1;32m      5\u001B[0m w  \u001B[38;5;241m=\u001B[39m np\u001B[38;5;241m.\u001B[39marray([[\u001B[38;5;241m10\u001B[39m,\u001B[38;5;241m20\u001B[39m,\u001B[38;5;241m30\u001B[39m]])\u001B[38;5;241m.\u001B[39mT\n\u001B[0;32m----> 7\u001B[0m w\u001B[38;5;241m+\u001B[39m\u001B[43mm\u001B[49m\n",
      "\u001B[0;31mNameError\u001B[0m: name 'm' is not defined"
     ]
    }
   ],
   "source": [
    "a  = np.array([4,5,6])\n",
    "b = np.array([7,8,9])\n",
    "c = np.array([10,11,12,16])\n",
    "v = np.array([[4,5,6]])\n",
    "w  = np.array([[10,20,30]]).T\n",
    "\n",
    "w+m"
   ],
   "metadata": {
    "collapsed": false,
    "ExecuteTime": {
     "end_time": "2024-04-08T19:00:32.075771Z",
     "start_time": "2024-04-08T19:00:32.054668Z"
    }
   },
   "id": "c0762efe69f87eb6",
   "execution_count": 5
  },
  {
   "cell_type": "code",
   "outputs": [],
   "source": [
    "new = np.array([[1,2,3]])\n",
    "new"
   ],
   "metadata": {
    "collapsed": false,
    "ExecuteTime": {
     "end_time": "2024-04-08T19:00:32.079528Z",
     "start_time": "2024-04-08T19:00:32.079303Z"
    }
   },
   "id": "151747e75f411ad8",
   "execution_count": null
  },
  {
   "cell_type": "markdown",
   "source": [],
   "metadata": {
    "collapsed": false
   },
   "id": "4c877eff4c6e8357"
  },
  {
   "cell_type": "code",
   "outputs": [],
   "source": [
    "s = 2.0\n",
    "a = [3,4,5]\n",
    "b = np.array(a)"
   ],
   "metadata": {
    "collapsed": false
   },
   "id": "71bec2e63685f372",
   "execution_count": null
  },
  {
   "cell_type": "code",
   "outputs": [],
   "source": [
    "# a is stored as regular array\n",
    "# if we change the data type then we cant multiply \n",
    "a * s"
   ],
   "metadata": {
    "collapsed": false
   },
   "id": "1dbbb9f6d22d14ef",
   "execution_count": null
  },
  {
   "cell_type": "code",
   "outputs": [],
   "source": [],
   "metadata": {
    "collapsed": false
   },
   "id": "85e8282b9be56957"
  },
  {
   "cell_type": "code",
   "outputs": [],
   "source": [
    "# here the data is stored as a vector\n",
    "# here numpy assigns the data type to be float\n",
    "s * b"
   ],
   "metadata": {
    "collapsed": false
   },
   "id": "c7e369c91a96d0ed",
   "execution_count": null
  },
  {
   "cell_type": "code",
   "outputs": [],
   "source": [
    "# Dimensions and Magnitude\n",
    "v = np.array([1,2,3,4,5,6])\n",
    "v_dim = len(v)\n",
    "v_mag = np.linalg.norm(v)\n",
    "print(v_mag, v_dim)\n"
   ],
   "metadata": {
    "collapsed": false
   },
   "id": "1321912abeca2020",
   "execution_count": null
  },
  {
   "cell_type": "code",
   "outputs": [
    {
     "data": {
      "text/plain": "284"
     },
     "execution_count": 12,
     "metadata": {},
     "output_type": "execute_result"
    }
   ],
   "source": [
    "# dot product\n",
    "s = 0\n",
    "v = np.array([1,2,3,4,5,6])\n",
    "w = np.array([3,4,65,7,4,5])\n",
    "np.dot(v, w)\n",
    "\n"
   ],
   "metadata": {
    "collapsed": false,
    "ExecuteTime": {
     "end_time": "2024-04-08T19:03:55.815136Z",
     "start_time": "2024-04-08T19:03:55.811073Z"
    }
   },
   "id": "a4f4fbf2ab707b92",
   "execution_count": 12
  },
  {
   "cell_type": "code",
   "outputs": [
    {
     "data": {
      "text/plain": "0"
     },
     "execution_count": 13,
     "metadata": {},
     "output_type": "execute_result"
    }
   ],
   "source": [
    "np.dot(s*v, w)"
   ],
   "metadata": {
    "collapsed": false,
    "ExecuteTime": {
     "end_time": "2024-04-08T19:03:57.735878Z",
     "start_time": "2024-04-08T19:03:57.730766Z"
    }
   },
   "id": "38fd0b1b6e1fc113",
   "execution_count": 13
  },
  {
   "cell_type": "code",
   "outputs": [
    {
     "data": {
      "text/plain": "array([0, 1, 2])"
     },
     "execution_count": 19,
     "metadata": {},
     "output_type": "execute_result"
    }
   ],
   "source": [
    "a = np.array([ 0,1,2 ])\n",
    "b = np.array([ 3,5,8 ])\n",
    "c = np.array([ 13,21,34 ])\n",
    "res1 = np.dot(a, b+c)\n",
    "res1\n",
    "a"
   ],
   "metadata": {
    "collapsed": false,
    "ExecuteTime": {
     "end_time": "2024-04-08T19:11:19.696218Z",
     "start_time": "2024-04-08T19:11:19.693337Z"
    }
   },
   "id": "5d4f2664b4c3c95f",
   "execution_count": 19
  },
  {
   "cell_type": "code",
   "outputs": [],
   "source": [
    "def get_data() -> int:\n",
    "    return 10\n",
    "\n",
    "if get_data() == 10:\n",
    "    print(False)\n",
    "else:\n",
    "    print(True)"
   ],
   "metadata": {
    "collapsed": false
   },
   "id": "d0a698ed81f55f3e"
  },
  {
   "cell_type": "code",
   "outputs": [],
   "source": [
    "# get the data from the user\n",
    "def check_data():\n",
    "    # we need to make sure that we can include\n"
   ],
   "metadata": {
    "collapsed": false
   },
   "id": "db2bac13bc7ef445"
  }
 ],
 "metadata": {
  "kernelspec": {
   "display_name": "Python 3",
   "language": "python",
   "name": "python3"
  },
  "language_info": {
   "codemirror_mode": {
    "name": "ipython",
    "version": 2
   },
   "file_extension": ".py",
   "mimetype": "text/x-python",
   "name": "python",
   "nbconvert_exporter": "python",
   "pygments_lexer": "ipython2",
   "version": "2.7.6"
  }
 },
 "nbformat": 4,
 "nbformat_minor": 5
}
