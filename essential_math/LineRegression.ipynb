{
 "cells": [
  {
   "cell_type": "code",
   "execution_count": 12,
   "id": "initial_id",
   "metadata": {
    "collapsed": true,
    "ExecuteTime": {
     "end_time": "2024-04-22T00:11:53.972373Z",
     "start_time": "2024-04-22T00:11:53.968812Z"
    }
   },
   "outputs": [],
   "source": [
    "import random\n",
    "\n",
    "import pandas as pd\n",
    "import numpy as np\n",
    "from numpy.linalg import inv, qr\n",
    "import matplotlib.pyplot as plt\n",
    "import random\n",
    "from sklearn.linear_model import LinearRegression\n",
    "from pydantic import BaseModel\n"
   ]
  },
  {
   "cell_type": "markdown",
   "source": [
    "### Machine Learning Questions\n"
   ],
   "metadata": {
    "collapsed": false
   },
   "id": "2b1eef8e5c9311ef"
  },
  {
   "cell_type": "markdown",
   "source": [
    "What is the best fit of the data\n",
    "How do we know that we get the best fit"
   ],
   "metadata": {
    "collapsed": false
   },
   "id": "97622d659d1a4072"
  },
  {
   "cell_type": "code",
   "outputs": [
    {
     "data": {
      "text/plain": "    x   y\n0   1   5\n1   2  10\n2   3  10\n3   4  15\n4   5  14\n5   6  15\n6   7  19\n7   8  18\n8   9  25\n9  10  23",
      "text/html": "<div>\n<style scoped>\n    .dataframe tbody tr th:only-of-type {\n        vertical-align: middle;\n    }\n\n    .dataframe tbody tr th {\n        vertical-align: top;\n    }\n\n    .dataframe thead th {\n        text-align: right;\n    }\n</style>\n<table border=\"1\" class=\"dataframe\">\n  <thead>\n    <tr style=\"text-align: right;\">\n      <th></th>\n      <th>x</th>\n      <th>y</th>\n    </tr>\n  </thead>\n  <tbody>\n    <tr>\n      <th>0</th>\n      <td>1</td>\n      <td>5</td>\n    </tr>\n    <tr>\n      <th>1</th>\n      <td>2</td>\n      <td>10</td>\n    </tr>\n    <tr>\n      <th>2</th>\n      <td>3</td>\n      <td>10</td>\n    </tr>\n    <tr>\n      <th>3</th>\n      <td>4</td>\n      <td>15</td>\n    </tr>\n    <tr>\n      <th>4</th>\n      <td>5</td>\n      <td>14</td>\n    </tr>\n    <tr>\n      <th>5</th>\n      <td>6</td>\n      <td>15</td>\n    </tr>\n    <tr>\n      <th>6</th>\n      <td>7</td>\n      <td>19</td>\n    </tr>\n    <tr>\n      <th>7</th>\n      <td>8</td>\n      <td>18</td>\n    </tr>\n    <tr>\n      <th>8</th>\n      <td>9</td>\n      <td>25</td>\n    </tr>\n    <tr>\n      <th>9</th>\n      <td>10</td>\n      <td>23</td>\n    </tr>\n  </tbody>\n</table>\n</div>"
     },
     "execution_count": 13,
     "metadata": {},
     "output_type": "execute_result"
    }
   ],
   "source": [
    "df = pd.read_csv('https://bit.ly/3goOAnt', delimiter=',')\n",
    "df"
   ],
   "metadata": {
    "collapsed": false,
    "ExecuteTime": {
     "end_time": "2024-04-22T00:11:54.447829Z",
     "start_time": "2024-04-22T00:11:53.980794Z"
    }
   },
   "id": "901ba5c254bfda54",
   "execution_count": 13
  },
  {
   "cell_type": "markdown",
   "source": [],
   "metadata": {
    "collapsed": false
   },
   "id": "e33b5d07664d9883"
  },
  {
   "cell_type": "code",
   "outputs": [
    {
     "data": {
      "text/plain": "array([[ 1.,  1.],\n       [ 2.,  1.],\n       [ 3.,  1.],\n       [ 4.,  1.],\n       [ 5.,  1.],\n       [ 6.,  1.],\n       [ 7.,  1.],\n       [ 8.,  1.],\n       [ 9.,  1.],\n       [10.,  1.]])"
     },
     "execution_count": 14,
     "metadata": {},
     "output_type": "execute_result"
    }
   ],
   "source": [
    "X =  df.values[:,:-1].flatten()\n",
    "x_1 = np.vstack((X, np.ones(len(X)))).T\n",
    "x_1"
   ],
   "metadata": {
    "collapsed": false,
    "ExecuteTime": {
     "end_time": "2024-04-22T00:11:54.452008Z",
     "start_time": "2024-04-22T00:11:54.448805Z"
    }
   },
   "id": "34f582503851e20c",
   "execution_count": 14
  },
  {
   "cell_type": "code",
   "outputs": [],
   "source": [],
   "metadata": {
    "collapsed": false,
    "ExecuteTime": {
     "end_time": "2024-04-22T00:11:54.454718Z",
     "start_time": "2024-04-22T00:11:54.452738Z"
    }
   },
   "id": "ba195a0c9248a39e",
   "execution_count": 14
  },
  {
   "cell_type": "code",
   "outputs": [
    {
     "data": {
      "text/plain": "array([ 5, 10, 10, 15, 14, 15, 19, 18, 25, 23])"
     },
     "execution_count": 15,
     "metadata": {},
     "output_type": "execute_result"
    }
   ],
   "source": [
    "Y = df.values[:, -1].flatten()\n",
    "Y"
   ],
   "metadata": {
    "collapsed": false,
    "ExecuteTime": {
     "end_time": "2024-04-22T00:11:54.460176Z",
     "start_time": "2024-04-22T00:11:54.456550Z"
    }
   },
   "id": "4e59399584752994",
   "execution_count": 15
  },
  {
   "cell_type": "code",
   "outputs": [
    {
     "data": {
      "text/plain": "array([1.93939394, 4.73333333])"
     },
     "execution_count": 16,
     "metadata": {},
     "output_type": "execute_result"
    }
   ],
   "source": [
    "b = inv(x_1.transpose() @ x_1) @ (x_1.transpose() @ Y)\n",
    "b"
   ],
   "metadata": {
    "collapsed": false,
    "ExecuteTime": {
     "end_time": "2024-04-22T00:11:54.465153Z",
     "start_time": "2024-04-22T00:11:54.460896Z"
    }
   },
   "id": "a26245876991d33b",
   "execution_count": 16
  },
  {
   "cell_type": "code",
   "outputs": [
    {
     "data": {
      "text/plain": "array([ 6.67272727,  8.61212121, 10.55151515, 12.49090909, 14.43030303,\n       16.36969697, 18.30909091, 20.24848485, 22.18787879, 24.12727273])"
     },
     "execution_count": 17,
     "metadata": {},
     "output_type": "execute_result"
    }
   ],
   "source": [
    "y_predict = x_1.dot(b)\n",
    "y_predict"
   ],
   "metadata": {
    "collapsed": false,
    "ExecuteTime": {
     "end_time": "2024-04-22T00:11:54.469973Z",
     "start_time": "2024-04-22T00:11:54.466074Z"
    }
   },
   "id": "5ca8b8e394cc14c3",
   "execution_count": 17
  },
  {
   "cell_type": "code",
   "outputs": [
    {
     "data": {
      "text/plain": "array([[-19.62141687,  -2.80305955],\n       [  0.        ,  -1.46385011]])"
     },
     "execution_count": 18,
     "metadata": {},
     "output_type": "execute_result"
    }
   ],
   "source": [
    "Q, R = qr(x_1)\n",
    "R"
   ],
   "metadata": {
    "collapsed": false,
    "ExecuteTime": {
     "end_time": "2024-04-22T00:11:54.475246Z",
     "start_time": "2024-04-22T00:11:54.471049Z"
    }
   },
   "id": "4fbaedfc94f5b4e4",
   "execution_count": 18
  },
  {
   "cell_type": "code",
   "outputs": [
    {
     "data": {
      "text/plain": "array([[ 1.,  1.],\n       [ 2.,  1.],\n       [ 3.,  1.],\n       [ 4.,  1.],\n       [ 5.,  1.],\n       [ 6.,  1.],\n       [ 7.,  1.],\n       [ 8.,  1.],\n       [ 9.,  1.],\n       [10.,  1.]])"
     },
     "execution_count": 19,
     "metadata": {},
     "output_type": "execute_result"
    }
   ],
   "source": [
    "Q @  R"
   ],
   "metadata": {
    "collapsed": false,
    "ExecuteTime": {
     "end_time": "2024-04-22T00:11:54.481113Z",
     "start_time": "2024-04-22T00:11:54.476545Z"
    }
   },
   "id": "634f2ffaf4852dbb",
   "execution_count": 19
  },
  {
   "cell_type": "code",
   "outputs": [
    {
     "data": {
      "text/plain": "13"
     },
     "execution_count": 37,
     "metadata": {},
     "output_type": "execute_result"
    }
   ],
   "source": [
    "# gradiant Descent\n",
    "def f(x):\n",
    "    return (x-3) ** 2 + 4\n",
    "\n",
    "def dx_f(x):\n",
    "    return 2*(x-3)\n",
    "\n",
    "L = 0.001\n",
    "iterations = 100_000\n",
    "x = random.randint(-15, 15)\n"
   ],
   "metadata": {
    "collapsed": false,
    "ExecuteTime": {
     "end_time": "2024-04-22T00:12:33.556483Z",
     "start_time": "2024-04-22T00:12:33.552037Z"
    }
   },
   "id": "2bbe034299b34466",
   "execution_count": 37
  },
  {
   "cell_type": "code",
   "outputs": [
    {
     "name": "stdout",
     "output_type": "stream",
     "text": [
      "3.000000000000111 4.0\n"
     ]
    }
   ],
   "source": [
    "for i in range(iterations):\n",
    "    d_x = dx_f(x)\n",
    "    x -= L * d_x\n",
    "print(x, f(x))"
   ],
   "metadata": {
    "collapsed": false,
    "ExecuteTime": {
     "end_time": "2024-04-22T00:15:58.226424Z",
     "start_time": "2024-04-22T00:15:58.205004Z"
    }
   },
   "id": "d8c9cd067fec13e3",
   "execution_count": 50
  }
 ],
 "metadata": {
  "kernelspec": {
   "display_name": "Python 3",
   "language": "python",
   "name": "python3"
  },
  "language_info": {
   "codemirror_mode": {
    "name": "ipython",
    "version": 2
   },
   "file_extension": ".py",
   "mimetype": "text/x-python",
   "name": "python",
   "nbconvert_exporter": "python",
   "pygments_lexer": "ipython2",
   "version": "2.7.6"
  }
 },
 "nbformat": 4,
 "nbformat_minor": 5
}
