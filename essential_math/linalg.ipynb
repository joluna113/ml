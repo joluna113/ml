{
 "cells": [
  {
   "cell_type": "code",
   "execution_count": 6,
   "id": "initial_id",
   "metadata": {
    "collapsed": true,
    "ExecuteTime": {
     "end_time": "2024-04-15T05:06:54.281816Z",
     "start_time": "2024-04-15T05:06:54.277848Z"
    }
   },
   "outputs": [],
   "source": [
    "import numpy as np\n",
    "from scipy import linalg\n"
   ]
  },
  {
   "cell_type": "code",
   "outputs": [
    {
     "data": {
      "text/plain": "array([[1, 2, 3],\n       [2, 1, 1],\n       [3, 4, 5]])"
     },
     "execution_count": 13,
     "metadata": {},
     "output_type": "execute_result"
    }
   ],
   "source": [
    "vector1 = np.array([1,2,3,4], dtype=np.int64)\n",
    "vector2 = np.array([4,5,6,7], dtype=np.int64)\n",
    "vector3 = np.array([[1,2,3],[2,1,1], [3, 4,5]])\n",
    "vector3"
   ],
   "metadata": {
    "collapsed": false,
    "ExecuteTime": {
     "end_time": "2024-04-15T05:08:36.263139Z",
     "start_time": "2024-04-15T05:08:36.255703Z"
    }
   },
   "id": "984a2e70010ed570",
   "execution_count": 13
  },
  {
   "cell_type": "markdown",
   "source": [
    "Linear Dependency. \n"
   ],
   "metadata": {
    "collapsed": false
   },
   "id": "5b2b29a3017f4cfc"
  },
  {
   "cell_type": "code",
   "outputs": [],
   "source": [],
   "metadata": {
    "collapsed": false
   },
   "id": "dbeba63ff5841bd0"
  }
 ],
 "metadata": {
  "kernelspec": {
   "display_name": "Python 3",
   "language": "python",
   "name": "python3"
  },
  "language_info": {
   "codemirror_mode": {
    "name": "ipython",
    "version": 2
   },
   "file_extension": ".py",
   "mimetype": "text/x-python",
   "name": "python",
   "nbconvert_exporter": "python",
   "pygments_lexer": "ipython2",
   "version": "2.7.6"
  }
 },
 "nbformat": 4,
 "nbformat_minor": 5
}
