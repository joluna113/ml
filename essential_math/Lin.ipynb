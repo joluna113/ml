{
 "cells": [
  {
   "cell_type": "code",
   "execution_count": 13,
   "id": "initial_id",
   "metadata": {
    "collapsed": true,
    "ExecuteTime": {
     "end_time": "2024-04-18T06:04:59.246036Z",
     "start_time": "2024-04-18T06:04:59.243379Z"
    }
   },
   "outputs": [],
   "source": [
    "import numpy as np\n",
    "import matplotlib.pyplot as plt\n"
   ]
  },
  {
   "cell_type": "code",
   "outputs": [
    {
     "data": {
      "text/plain": "array([[ 4,  5],\n       [11, 15]])"
     },
     "execution_count": 14,
     "metadata": {},
     "output_type": "execute_result"
    }
   ],
   "source": [
    "i_hat = np.array([[0,1],[1,3]])\n",
    "j_hat = np.array([[-1,0],[4,5]])\n",
    "i_hat.dot(j_hat)"
   ],
   "metadata": {
    "collapsed": false,
    "ExecuteTime": {
     "end_time": "2024-04-18T06:04:59.266323Z",
     "start_time": "2024-04-18T06:04:59.263295Z"
    }
   },
   "id": "a5ce7c5d01d86e35",
   "execution_count": 14
  },
  {
   "cell_type": "markdown",
   "source": [
    "### Determinants\n",
    "How does a vector space changes based on a linear transformation\n",
    "Determinants can tell you if you have a linear dependent matrix\n",
    "If we get a 0 determinant then it means that the matrix has been reduce"
   ],
   "metadata": {
    "collapsed": false
   },
   "id": "389d72b546d8a0cf"
  },
  {
   "cell_type": "code",
   "outputs": [
    {
     "data": {
      "text/plain": "5.000000000000003"
     },
     "execution_count": 15,
     "metadata": {},
     "output_type": "execute_result"
    }
   ],
   "source": [
    "from numpy.linalg import det\n",
    "i_j_multiplied = np.dot(i_hat,j_hat)\n",
    "determinants =  det(i_j_multiplied)\n",
    "determinants"
   ],
   "metadata": {
    "collapsed": false,
    "ExecuteTime": {
     "end_time": "2024-04-18T06:04:59.273847Z",
     "start_time": "2024-04-18T06:04:59.270704Z"
    }
   },
   "id": "a43894aebf1e5c47",
   "execution_count": 15
  },
  {
   "cell_type": "code",
   "outputs": [
    {
     "data": {
      "text/plain": "1445839.999999999"
     },
     "execution_count": 16,
     "metadata": {},
     "output_type": "execute_result"
    }
   ],
   "source": [
    "# determinants can also be negative\n",
    "i = np.array([[-12,34], [32, 23]])\n",
    "j = np.array([[134,34], [43, 3]])\n",
    "dot_multiplied = np.dot(i,j)\n",
    "determinants = det(dot_multiplied)\n",
    "determinants"
   ],
   "metadata": {
    "collapsed": false,
    "ExecuteTime": {
     "end_time": "2024-04-18T06:04:59.278541Z",
     "start_time": "2024-04-18T06:04:59.275011Z"
    }
   },
   "id": "c93d2fb4897f8d60",
   "execution_count": 16
  },
  {
   "cell_type": "markdown",
   "source": [
    "### Inverse Matrix \n",
    "Undoes the transformation of another matrix"
   ],
   "metadata": {
    "collapsed": false
   },
   "id": "62f52b7e351e3722"
  },
  {
   "cell_type": "markdown",
   "source": [
    "### Diagonal Matrix\n",
    "### Triangular Matrix\n"
   ],
   "metadata": {
    "collapsed": false
   },
   "id": "2f6b39da8fa39681"
  },
  {
   "cell_type": "code",
   "outputs": [
    {
     "name": "stdout",
     "output_type": "stream",
     "text": [
      "[ 2. 34. -8.]\n"
     ]
    }
   ],
   "source": [
    "# Ax = B\n",
    "from numpy.linalg import inv\n",
    "A = np.array([[4,2,4],[5,3,7],[9,3,6]])\n",
    "A_inv = inv(A)\n",
    "B = np.array([44,56,72])\n",
    "print(A_inv.dot(B   ))"
   ],
   "metadata": {
    "collapsed": false,
    "ExecuteTime": {
     "end_time": "2024-04-18T06:11:02.321337Z",
     "start_time": "2024-04-18T06:11:02.316617Z"
    }
   },
   "id": "895ea8b577d2e030",
   "execution_count": 25
  },
  {
   "cell_type": "markdown",
   "source": [
    "### Matrix Decomposition\n",
    "Is breaking up a matrix into its basic. Like 10 is 5x2\n",
    "Is like factoring. Only works in square matrixes\n",
    "$$ Av = \\lambda{v} v $$\n"
   ],
   "metadata": {
    "collapsed": false
   },
   "id": "dab0a35314e2be12"
  },
  {
   "cell_type": "code",
   "outputs": [
    {
     "data": {
      "text/plain": "array([[-0.80689822, -0.34372377],\n       [ 0.59069049, -0.9390708 ]])"
     },
     "execution_count": 30,
     "metadata": {},
     "output_type": "execute_result"
    }
   ],
   "source": [
    "from numpy import array, diag\n",
    "from numpy.linalg import eig\n",
    "A = array([[1,2],[4,5]])\n",
    "eigenvals , eigenvect = eig(A)\n",
    "eigenvals\n",
    "eigenvect"
   ],
   "metadata": {
    "collapsed": false,
    "ExecuteTime": {
     "end_time": "2024-04-18T06:29:19.324920Z",
     "start_time": "2024-04-18T06:29:19.312743Z"
    }
   },
   "id": "95ac82debf3f24d4",
   "execution_count": 30
  }
 ],
 "metadata": {
  "kernelspec": {
   "display_name": "Python 3",
   "language": "python",
   "name": "python3"
  },
  "language_info": {
   "codemirror_mode": {
    "name": "ipython",
    "version": 2
   },
   "file_extension": ".py",
   "mimetype": "text/x-python",
   "name": "python",
   "nbconvert_exporter": "python",
   "pygments_lexer": "ipython2",
   "version": "2.7.6"
  }
 },
 "nbformat": 4,
 "nbformat_minor": 5
}
