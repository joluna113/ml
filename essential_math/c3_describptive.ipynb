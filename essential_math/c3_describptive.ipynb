{
 "cells": [
  {
   "cell_type": "code",
   "execution_count": 1,
   "id": "initial_id",
   "metadata": {
    "collapsed": true,
    "ExecuteTime": {
     "end_time": "2024-04-11T18:13:56.967869Z",
     "start_time": "2024-04-11T18:13:56.966099Z"
    }
   },
   "outputs": [],
   "source": [
    "import numpy as np\n",
    "\n",
    "\n",
    "def calculate_mean(ar: list) -> float: \n",
    "    if len(ar) == 0:\n",
    "        return 0\n",
    "    else: \n",
    "        return sum(ar)/len(ar)\n"
   ]
  },
  {
   "cell_type": "code",
   "outputs": [
    {
     "data": {
      "text/plain": "14.625"
     },
     "execution_count": 4,
     "metadata": {},
     "output_type": "execute_result"
    }
   ],
   "source": [
    "calculate_mean([1,2,3,4,5,6,7,89])"
   ],
   "metadata": {
    "collapsed": false,
    "ExecuteTime": {
     "end_time": "2024-04-11T18:14:21.703587Z",
     "start_time": "2024-04-11T18:14:21.698168Z"
    }
   },
   "id": "41a627844d8f887d",
   "execution_count": 4
  },
  {
   "cell_type": "code",
   "outputs": [],
   "source": [
    "def calculate_weighted_mean(ar: list, weight: list) -> str | float:\n",
    "    if len(ar) == 0 or len(weight) == 0:\n",
    "        return 0\n",
    "    elif len(ar) != len(weight):\n",
    "        return \"Make sure the lengths of ar and weight are the same\"\n",
    "    else:\n",
    "        return sum(s* w for s, w in zip(ar, weight))/sum(weight)\n",
    "    \n"
   ],
   "metadata": {
    "collapsed": false,
    "ExecuteTime": {
     "end_time": "2024-04-11T18:36:41.305017Z",
     "start_time": "2024-04-11T18:36:41.300700Z"
    }
   },
   "id": "1e092d62b934004e",
   "execution_count": 15
  },
  {
   "cell_type": "code",
   "outputs": [
    {
     "name": "stdout",
     "output_type": "stream",
     "text": [
      "6.925925925925926\n"
     ]
    }
   ],
   "source": [
    "print(calculate_weighted_mean([6,7], [.02,0.25]))"
   ],
   "metadata": {
    "collapsed": false,
    "ExecuteTime": {
     "end_time": "2024-04-11T18:36:55.723834Z",
     "start_time": "2024-04-11T18:36:55.719857Z"
    }
   },
   "id": "66f1e17a169d61fb",
   "execution_count": 17
  },
  {
   "cell_type": "code",
   "outputs": [],
   "source": [
    "def find_median(arr: list ) -> float | str:\n",
    "    if len(arr) == 0:\n",
    "        return \"Sorry, the array is empty\"\n",
    "    if len(arr) % 2 == 0:\n",
    "        return\n",
    "    # return a fun ction taht we can "
   ],
   "metadata": {
    "collapsed": false
   },
   "id": "558551e9eee08bb4"
  }
 ],
 "metadata": {
  "kernelspec": {
   "display_name": "Python 3",
   "language": "python",
   "name": "python3"
  },
  "language_info": {
   "codemirror_mode": {
    "name": "ipython",
    "version": 2
   },
   "file_extension": ".py",
   "mimetype": "text/x-python",
   "name": "python",
   "nbconvert_exporter": "python",
   "pygments_lexer": "ipython2",
   "version": "2.7.6"
  }
 },
 "nbformat": 4,
 "nbformat_minor": 5
}
