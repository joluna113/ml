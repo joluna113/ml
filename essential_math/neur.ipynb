{
 "cells": [
  {
   "cell_type": "code",
   "execution_count": 1,
   "id": "initial_id",
   "metadata": {
    "collapsed": true,
    "ExecuteTime": {
     "end_time": "2024-04-22T18:27:28.542650Z",
     "start_time": "2024-04-22T18:27:27.286134Z"
    }
   },
   "outputs": [],
   "source": [
    "import numpy as np\n",
    "import pandas as pd\n",
    "from sklearn.model_selection import train_test_split"
   ]
  },
  {
   "cell_type": "code",
   "outputs": [
    {
     "data": {
      "text/plain": "      RED  GREEN  BLUE  LIGHT_OR_DARK_FONT_IND\n0       0      0     0                       0\n1       0      0   128                       0\n2       0      0   139                       0\n3       0      0   205                       0\n4       0      0   238                       0\n...   ...    ...   ...                     ...\n1340   95    158   160                       1\n1341   96    123   139                       0\n1342   97     97    97                       0\n1343   99    184   255                       1\n1344   99     99    99                       0\n\n[1345 rows x 4 columns]",
      "text/html": "<div>\n<style scoped>\n    .dataframe tbody tr th:only-of-type {\n        vertical-align: middle;\n    }\n\n    .dataframe tbody tr th {\n        vertical-align: top;\n    }\n\n    .dataframe thead th {\n        text-align: right;\n    }\n</style>\n<table border=\"1\" class=\"dataframe\">\n  <thead>\n    <tr style=\"text-align: right;\">\n      <th></th>\n      <th>RED</th>\n      <th>GREEN</th>\n      <th>BLUE</th>\n      <th>LIGHT_OR_DARK_FONT_IND</th>\n    </tr>\n  </thead>\n  <tbody>\n    <tr>\n      <th>0</th>\n      <td>0</td>\n      <td>0</td>\n      <td>0</td>\n      <td>0</td>\n    </tr>\n    <tr>\n      <th>1</th>\n      <td>0</td>\n      <td>0</td>\n      <td>128</td>\n      <td>0</td>\n    </tr>\n    <tr>\n      <th>2</th>\n      <td>0</td>\n      <td>0</td>\n      <td>139</td>\n      <td>0</td>\n    </tr>\n    <tr>\n      <th>3</th>\n      <td>0</td>\n      <td>0</td>\n      <td>205</td>\n      <td>0</td>\n    </tr>\n    <tr>\n      <th>4</th>\n      <td>0</td>\n      <td>0</td>\n      <td>238</td>\n      <td>0</td>\n    </tr>\n    <tr>\n      <th>...</th>\n      <td>...</td>\n      <td>...</td>\n      <td>...</td>\n      <td>...</td>\n    </tr>\n    <tr>\n      <th>1340</th>\n      <td>95</td>\n      <td>158</td>\n      <td>160</td>\n      <td>1</td>\n    </tr>\n    <tr>\n      <th>1341</th>\n      <td>96</td>\n      <td>123</td>\n      <td>139</td>\n      <td>0</td>\n    </tr>\n    <tr>\n      <th>1342</th>\n      <td>97</td>\n      <td>97</td>\n      <td>97</td>\n      <td>0</td>\n    </tr>\n    <tr>\n      <th>1343</th>\n      <td>99</td>\n      <td>184</td>\n      <td>255</td>\n      <td>1</td>\n    </tr>\n    <tr>\n      <th>1344</th>\n      <td>99</td>\n      <td>99</td>\n      <td>99</td>\n      <td>0</td>\n    </tr>\n  </tbody>\n</table>\n<p>1345 rows × 4 columns</p>\n</div>"
     },
     "execution_count": 3,
     "metadata": {},
     "output_type": "execute_result"
    }
   ],
   "source": [
    "all_data = pd.read_csv('https://tinyurl.com/y2qmhfsr')\n",
    "all_data"
   ],
   "metadata": {
    "collapsed": false,
    "ExecuteTime": {
     "end_time": "2024-04-22T18:28:28.670153Z",
     "start_time": "2024-04-22T18:28:28.427417Z"
    }
   },
   "id": "191d5a82b9d1b4b7",
   "execution_count": 3
  },
  {
   "cell_type": "code",
   "outputs": [],
   "source": [
    "inputs = (all_data.iloc[:, 0:3].values / 255)"
   ],
   "metadata": {
    "collapsed": false,
    "ExecuteTime": {
     "end_time": "2024-04-22T18:31:30.442886Z",
     "start_time": "2024-04-22T18:31:30.439169Z"
    }
   },
   "id": "3aff6c5f92fe32cf",
   "execution_count": 10
  },
  {
   "cell_type": "code",
   "outputs": [],
   "source": [
    "outputs = all_data.iloc[:, -1].values\n",
    "X_train, X_test, y_train, y_test = train_test_split(inputs, outputs, test_size=0.3, random_state=42)"
   ],
   "metadata": {
    "collapsed": false,
    "ExecuteTime": {
     "end_time": "2024-04-22T18:31:28.553620Z",
     "start_time": "2024-04-22T18:31:28.548255Z"
    }
   },
   "id": "8671f2eeb2c4be52",
   "execution_count": 9
  },
  {
   "cell_type": "code",
   "outputs": [
    {
     "data": {
      "text/plain": "941"
     },
     "execution_count": 15,
     "metadata": {},
     "output_type": "execute_result"
    }
   ],
   "source": [
    "# get the shape of the dataset\n",
    "n = X_train.shape[0]"
   ],
   "metadata": {
    "collapsed": false,
    "ExecuteTime": {
     "end_time": "2024-04-22T18:32:15.006105Z",
     "start_time": "2024-04-22T18:32:15.002217Z"
    }
   },
   "id": "2ed9884e97c4f225",
   "execution_count": 15
  },
  {
   "cell_type": "code",
   "outputs": [],
   "source": [
    "# Creating the \n",
    "w_hidden = np.random.rand(3, 3)\n",
    "w_output = np.random.rand(1,3)\n",
    "b_hidden = np.random.rand(3, 1)\n",
    "b_output = np.random.rand(1,1)\n",
    "\n",
    "relu = lambda x: np.maximum(0, x)\n",
    "logistic = lambda x: 1 / (1 + np.exp(-x))\n"
   ],
   "metadata": {
    "collapsed": false,
    "ExecuteTime": {
     "end_time": "2024-04-22T18:43:35.562571Z",
     "start_time": "2024-04-22T18:43:35.557063Z"
    }
   },
   "id": "f7ef6ab95ddab94e",
   "execution_count": 17
  },
  {
   "cell_type": "code",
   "outputs": [
    {
     "data": {
      "text/plain": "array([[0.77254902, 0.07058824, 1.        , ..., 1.        , 0.55294118,\n        0.74117647],\n       [0.75686275, 0.07058824, 0.97254902, ..., 0.6       , 0.93333333,\n        0.98823529],\n       [0.66666667, 0.07058824, 0.8627451 , ..., 0.07058824, 0.93333333,\n        0.78823529]])"
     },
     "execution_count": 22,
     "metadata": {},
     "output_type": "execute_result"
    }
   ],
   "source": [
    "# forward Propagation here        HHell\n",
    "def forward_prop(x):\n",
    "    Z1 = w_hidden @ x + b_hidden\n",
    "    A1 = relu(Z1)\n",
    "    Z2 = w_output @ A1 + b_output\n",
    "    A2 = logistic(Z2)\n",
    "    return Z1, A1, Z2, A2\n",
    "    "
   ],
   "metadata": {
    "collapsed": false,
    "ExecuteTime": {
     "end_time": "2024-04-22T18:46:35.706516Z",
     "start_time": "2024-04-22T18:46:35.702790Z"
    }
   },
   "id": "a5b2a0bbfdf421a",
   "execution_count": 22
  }
 ],
 "metadata": {
  "kernelspec": {
   "display_name": "Python 3",
   "language": "python",
   "name": "python3"
  },
  "language_info": {
   "codemirror_mode": {
    "name": "ipython",
    "version": 2
   },
   "file_extension": ".py",
   "mimetype": "text/x-python",
   "name": "python",
   "nbconvert_exporter": "python",
   "pygments_lexer": "ipython2",
   "version": "2.7.6"
  }
 },
 "nbformat": 4,
 "nbformat_minor": 5
}
