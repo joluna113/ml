{
 "cells": [
  {
   "cell_type": "code",
   "execution_count": 3,
   "id": "initial_id",
   "metadata": {
    "collapsed": true,
    "ExecuteTime": {
     "end_time": "2024-04-10T20:01:50.941620Z",
     "start_time": "2024-04-10T20:01:50.937292Z"
    }
   },
   "outputs": [],
   "source": [
    "from sympy import symbols\n",
    "x = symbols('x')"
   ]
  },
  {
   "cell_type": "code",
   "outputs": [
    {
     "data": {
      "text/plain": "oo",
      "text/latex": "$\\displaystyle \\infty$"
     },
     "execution_count": 5,
     "metadata": {},
     "output_type": "execute_result"
    }
   ],
   "source": [
    "from sympy import limit\n",
    "\n",
    "f = 1/x\n",
    "result = limit(f, x, 00)\n",
    "result"
   ],
   "metadata": {
    "collapsed": false,
    "ExecuteTime": {
     "end_time": "2024-04-10T20:03:11.506424Z",
     "start_time": "2024-04-10T20:03:11.501238Z"
    }
   },
   "id": "b0a0cb1fadd71e6e",
   "execution_count": 5
  },
  {
   "cell_type": "code",
   "outputs": [
    {
     "data": {
      "text/plain": "1",
      "text/latex": "$\\displaystyle 1$"
     },
     "execution_count": 9,
     "metadata": {},
     "output_type": "execute_result"
    }
   ],
   "source": [
    "n=  symbols(\"n\")\n",
    "f = (1 + (1/n))**n\n",
    "result = limit(f,n, 00)\n",
    "result\n"
   ],
   "metadata": {
    "collapsed": false,
    "ExecuteTime": {
     "end_time": "2024-04-10T20:05:43.132462Z",
     "start_time": "2024-04-10T20:05:43.127688Z"
    }
   },
   "id": "fd1dd1b5ba092a7f",
   "execution_count": 9
  },
  {
   "cell_type": "markdown",
   "source": [
    "## Finding Derivatives\n",
    "We now that the derivative of a function is the tangent line of that function at x or any given point"
   ],
   "metadata": {
    "collapsed": false
   },
   "id": "2572714b24d64a9c"
  },
  {
   "cell_type": "code",
   "outputs": [
    {
     "data": {
      "text/plain": "2*x",
      "text/latex": "$\\displaystyle 2 x$"
     },
     "execution_count": 11,
     "metadata": {},
     "output_type": "execute_result"
    }
   ],
   "source": [
    "from sympy import diff\n",
    "x = symbols('x')\n",
    "f = x**2\n",
    "# here we are going to take the derivative\n",
    "df_x = diff(f)\n",
    "df_x\n"
   ],
   "metadata": {
    "collapsed": false,
    "ExecuteTime": {
     "end_time": "2024-04-10T20:11:04.738410Z",
     "start_time": "2024-04-10T20:11:04.733997Z"
    }
   },
   "id": "cef1bd9945dab9ad",
   "execution_count": 11
  },
  {
   "cell_type": "code",
   "outputs": [],
   "source": [
    "def derivative_calculator(func: str) -> int():\n",
    "    # create a function that takes the input and return a result\n",
    "    return 3\n"
   ],
   "metadata": {
    "collapsed": false
   },
   "id": "a64d74998c0fee8c"
  },
  {
   "cell_type": "code",
   "outputs": [],
   "source": [
    "# chain Rule\n",
    "def chain_rule(x_func, y_func)\n",
    "    # insert a function and then we calculate the derivative\n",
    "    x ,y  = symbols('x y')\n",
    "    z = diff(x_func) * diff(y_func)\n",
    "    "
   ],
   "metadata": {
    "collapsed": false
   },
   "id": "5da7f5eec7a221c6"
  },
  {
   "cell_type": "markdown",
   "source": [
    "## Integral\n",
    "Finds the area under the curve for a given range\n",
    "1   Reimann Sums\n",
    "    "
   ],
   "metadata": {
    "collapsed": false
   },
   "id": "313c806414ca5f64"
  },
  {
   "cell_type": "code",
   "outputs": [
    {
     "data": {
      "text/plain": "4/3",
      "text/latex": "$\\displaystyle \\frac{4}{3}$"
     },
     "execution_count": 13,
     "metadata": {},
     "output_type": "execute_result"
    }
   ],
   "source": [
    "# Integral \n",
    "from sympy import *\n",
    "x = symbols('x')\n",
    "f = x**2 + 1\n",
    "# enter function the variable min and max\n",
    "area = integrate(f, (x, 0,1))\n",
    "area\n"
   ],
   "metadata": {
    "collapsed": false,
    "ExecuteTime": {
     "end_time": "2024-04-10T23:03:44.647101Z",
     "start_time": "2024-04-10T23:03:44.632971Z"
    }
   },
   "id": "98843ff7a9a1caaf",
   "execution_count": 13
  },
  {
   "cell_type": "code",
   "outputs": [
    {
     "data": {
      "text/plain": "0",
      "text/latex": "$\\displaystyle 0$"
     },
     "execution_count": 28,
     "metadata": {},
     "output_type": "execute_result"
    }
   ],
   "source": [
    "x = symbols('x')\n",
    "f = 3*x**2 + 1\n",
    "slope = diff(f, x, 3)\n",
    "# try to evaluate the function at 3\n"
   ],
   "metadata": {
    "collapsed": false,
    "ExecuteTime": {
     "end_time": "2024-04-10T23:11:35.528991Z",
     "start_time": "2024-04-10T23:11:35.526141Z"
    }
   },
   "id": "65cbfbe7d6b5c823",
   "execution_count": 28
  },
  {
   "cell_type": "code",
   "outputs": [
    {
     "data": {
      "text/plain": "10",
      "text/latex": "$\\displaystyle 10$"
     },
     "execution_count": 30,
     "metadata": {},
     "output_type": "execute_result"
    }
   ],
   "source": [
    "# find the integral in the function\n",
    "area_under = integrate(f, (x, 0,2))\n",
    "area_under"
   ],
   "metadata": {
    "collapsed": false,
    "ExecuteTime": {
     "end_time": "2024-04-10T23:12:03.817625Z",
     "start_time": "2024-04-10T23:12:03.809705Z"
    }
   },
   "id": "8e10e87c87123eae",
   "execution_count": 30
  },
  {
   "cell_type": "code",
   "outputs": [],
   "source": [],
   "metadata": {
    "collapsed": false
   },
   "id": "1b6810dd7383591c"
  }
 ],
 "metadata": {
  "kernelspec": {
   "display_name": "Python 3",
   "language": "python",
   "name": "python3"
  },
  "language_info": {
   "codemirror_mode": {
    "name": "ipython",
    "version": 2
   },
   "file_extension": ".py",
   "mimetype": "text/x-python",
   "name": "python",
   "nbconvert_exporter": "python",
   "pygments_lexer": "ipython2",
   "version": "2.7.6"
  }
 },
 "nbformat": 4,
 "nbformat_minor": 5
}
