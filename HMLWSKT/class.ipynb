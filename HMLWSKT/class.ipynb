{
 "cells": [
  {
   "cell_type": "code",
   "execution_count": 1,
   "id": "initial_id",
   "metadata": {
    "collapsed": true,
    "ExecuteTime": {
     "end_time": "2024-05-06T03:35:46.165588Z",
     "start_time": "2024-05-06T03:35:35.960963Z"
    }
   },
   "outputs": [
    {
     "name": "stderr",
     "output_type": "stream",
     "text": [
      "/Users/joseluna/anaconda3/envs/data_science/lib/python3.12/site-packages/sklearn/datasets/_openml.py:1002: FutureWarning: The default value of `parser` will change from `'liac-arff'` to `'auto'` in 1.4. You can set `parser='auto'` to silence this warning. Therefore, an `ImportError` will be raised from 1.4 if the dataset is dense and pandas is not installed. Note that the pandas parser may return different data types. See the Notes Section in fetch_openml's API doc for details.\n",
      "  warn(\n"
     ]
    }
   ],
   "source": [
    "from sklearn.datasets import fetch_openml\n",
    "mnist = fetch_openml('mnist_784',as_frame=False)\n",
    "X, y = mnist.data, mnist.target"
   ]
  },
  {
   "cell_type": "code",
   "outputs": [
    {
     "data": {
      "text/plain": "<Figure size 640x480 with 1 Axes>",
      "image/png": "[encoded data removed]"
     },
     "metadata": {},
     "output_type": "display_data"
    }
   ],
   "source": [
    "import matplotlib.pyplot as plt\n",
    "def plotting_digits(image_data):\n",
    "    image = image_data.reshape(28, 28)\n",
    "    image = plt.imshow(image,)\n",
    "some_digits = X[0]\n",
    "plotting_digits(some_digits)"
   ],
   "metadata": {
    "collapsed": false,
    "ExecuteTime": {
     "end_time": "2024-05-06T03:35:46.597474Z",
     "start_time": "2024-05-06T03:35:46.167265Z"
    }
   },
   "id": "f257321671a33b28",
   "execution_count": 2
  },
  {
   "cell_type": "code",
   "outputs": [],
   "source": [
    "X_train , X_test , y_train , y_test = X[:60000] , X[60000:], y[:60000] , y[60000:]\n"
   ],
   "metadata": {
    "collapsed": false,
    "ExecuteTime": {
     "end_time": "2024-05-06T03:35:46.683970Z",
     "start_time": "2024-05-06T03:35:46.637153Z"
    }
   },
   "id": "ad48f7aed97e147e",
   "execution_count": 3
  },
  {
   "cell_type": "markdown",
   "source": [
    "## Binary Classifier\n",
    "We are going to select 5 or not 5 \n"
   ],
   "metadata": {
    "collapsed": false
   },
   "id": "9846b6775c25662d"
  },
  {
   "cell_type": "code",
   "outputs": [],
   "source": [
    "y_train_5 = (y_train == '5')\n",
    "y_test_5 = (y_test == '5')"
   ],
   "metadata": {
    "collapsed": false,
    "ExecuteTime": {
     "end_time": "2024-05-06T03:35:46.707856Z",
     "start_time": "2024-05-06T03:35:46.702655Z"
    }
   },
   "id": "8153f504c3e4ac45",
   "execution_count": 4
  },
  {
   "cell_type": "markdown",
   "source": [
    "### Stochatic Gradient Descent\n"
   ],
   "metadata": {
    "collapsed": false
   },
   "id": "78d782c647a307a1"
  },
  {
   "cell_type": "code",
   "outputs": [
    {
     "data": {
      "text/plain": "array([ True])"
     },
     "execution_count": 5,
     "metadata": {},
     "output_type": "execute_result"
    }
   ],
   "source": [
    "from sklearn.linear_model import SGDClassifier\n",
    "sgd_classifier = SGDClassifier(random_state=42)\n",
    "sgd_classifier.fit(X_train,y_train_5)\n",
    "sgd_classifier.predict([some_digits])"
   ],
   "metadata": {
    "collapsed": false,
    "ExecuteTime": {
     "end_time": "2024-05-06T03:36:00.867725Z",
     "start_time": "2024-05-06T03:35:46.711746Z"
    }
   },
   "id": "8615dd46f607e06f",
   "execution_count": 5
  },
  {
   "cell_type": "code",
   "outputs": [
    {
     "data": {
      "text/plain": "array([0.95035, 0.96035, 0.9604 ])"
     },
     "execution_count": 6,
     "metadata": {},
     "output_type": "execute_result"
    }
   ],
   "source": [
    "from sklearn.model_selection import cross_val_score\n",
    "cross_val_score(sgd_classifier,X_train,y_train_5,cv=3, scoring='accuracy')\n"
   ],
   "metadata": {
    "collapsed": false,
    "ExecuteTime": {
     "end_time": "2024-05-06T03:36:18.744987Z",
     "start_time": "2024-05-06T03:36:00.868466Z"
    }
   },
   "id": "d03e0b6a7827852b",
   "execution_count": 6
  },
  {
   "cell_type": "markdown",
   "source": [
    "What happens when we have much more frequent than others. When dealing with skew datasets"
   ],
   "metadata": {
    "collapsed": false
   },
   "id": "65aa266c0d106fa7"
  },
  {
   "cell_type": "markdown",
   "source": [
    "### Confusion Matrix"
   ],
   "metadata": {
    "collapsed": false
   },
   "id": "88cc24aec3824a58"
  },
  {
   "cell_type": "code",
   "outputs": [],
   "source": [
    "from sklearn.model_selection import cross_val_predict"
   ],
   "metadata": {
    "collapsed": false,
    "ExecuteTime": {
     "end_time": "2024-05-06T03:36:18.774800Z",
     "start_time": "2024-05-06T03:36:18.751253Z"
    }
   },
   "id": "959d8ae493d19832",
   "execution_count": 7
  },
  {
   "cell_type": "code",
   "outputs": [],
   "source": [
    "y_trained_pred = cross_val_predict(sgd_classifier,X_train, y_train_5, cv=3)"
   ],
   "metadata": {
    "collapsed": false,
    "ExecuteTime": {
     "end_time": "2024-05-06T03:36:36.479170Z",
     "start_time": "2024-05-06T03:36:18.777737Z"
    }
   },
   "id": "d61dc0d9b27ed8fa",
   "execution_count": 8
  },
  {
   "cell_type": "markdown",
   "source": [],
   "metadata": {
    "collapsed": false
   },
   "id": "4335999b89e22776"
  },
  {
   "cell_type": "markdown",
   "source": [
    "### F! Score\n",
    "allows you to combine precision and recall to compare two classifiers "
   ],
   "metadata": {
    "collapsed": false
   },
   "id": "c06d1701f37aa573"
  },
  {
   "cell_type": "code",
   "outputs": [
    {
     "data": {
      "text/plain": "0.7325171197343846"
     },
     "execution_count": 9,
     "metadata": {},
     "output_type": "execute_result"
    }
   ],
   "source": [
    "from sklearn.metrics import f1_score\n",
    "f1_fitted = f1_score( y_train_5, y_trained_pred)\n",
    "f1_fitted"
   ],
   "metadata": {
    "collapsed": false,
    "ExecuteTime": {
     "end_time": "2024-05-06T03:36:36.536623Z",
     "start_time": "2024-05-06T03:36:36.480734Z"
    }
   },
   "id": "de2269e41966d79",
   "execution_count": 9
  },
  {
   "cell_type": "code",
   "outputs": [],
   "source": [
    "y_scores = cross_val_predict(sgd_classifier,X_train, y_train_5, cv=5, method='decision_function')\n"
   ],
   "metadata": {
    "collapsed": false,
    "ExecuteTime": {
     "end_time": "2024-05-06T03:37:13.502525Z",
     "start_time": "2024-05-06T03:36:36.538244Z"
    }
   },
   "id": "528a1c1eddba6de1",
   "execution_count": 10
  },
  {
   "cell_type": "code",
   "outputs": [],
   "source": [
    "from sklearn.metrics import precision_recall_curve\n",
    "precision, recalls, thresholds = precision_recall_curve(y_train_5, y_scores)"
   ],
   "metadata": {
    "collapsed": false,
    "ExecuteTime": {
     "end_time": "2024-05-06T03:37:13.566636Z",
     "start_time": "2024-05-06T03:37:13.503908Z"
    }
   },
   "id": "188bc4dacd9c8c02",
   "execution_count": 11
  },
  {
   "cell_type": "markdown",
   "source": [],
   "metadata": {
    "collapsed": false
   },
   "id": "a5707f5ff1f7e38e"
  },
  {
   "cell_type": "code",
   "outputs": [
    {
     "data": {
      "text/plain": "[<matplotlib.lines.Line2D at 0x158bb4f50>]"
     },
     "execution_count": 12,
     "metadata": {},
     "output_type": "execute_result"
    },
    {
     "data": {
      "text/plain": "<Figure size 640x480 with 1 Axes>",
      "image/png": "[encoded data removed]"
     },
     "metadata": {},
     "output_type": "display_data"
    }
   ],
   "source": [
    "plt.plot(recalls, precision, label='Precision-Recall')"
   ],
   "metadata": {
    "collapsed": false,
    "ExecuteTime": {
     "end_time": "2024-05-06T03:37:13.727239Z",
     "start_time": "2024-05-06T03:37:13.597258Z"
    }
   },
   "id": "914d415b74de66bb",
   "execution_count": 12
  },
  {
   "cell_type": "markdown",
   "source": [
    "### ROC \n",
    "Reciever Operating Characteristics is used for binary classifiers\n",
    "What is the True Negative Rate(TNR) \n"
   ],
   "metadata": {
    "collapsed": false
   },
   "id": "d4427096a7b43392"
  },
  {
   "cell_type": "code",
   "outputs": [],
   "source": [
    "from sklearn.metrics import roc_curve\n",
    "fpr , tpr, thresholds = roc_curve(y_train_5, y_scores)"
   ],
   "metadata": {
    "collapsed": false,
    "ExecuteTime": {
     "end_time": "2024-05-06T03:37:13.756910Z",
     "start_time": "2024-05-06T03:37:13.736720Z"
    }
   },
   "id": "44d8ea88f78cda9e",
   "execution_count": 13
  }
 ],
 "metadata": {
  "kernelspec": {
   "display_name": "Python 3",
   "language": "python",
   "name": "python3"
  },
  "language_info": {
   "codemirror_mode": {
    "name": "ipython",
    "version": 2
   },
   "file_extension": ".py",
   "mimetype": "text/x-python",
   "name": "python",
   "nbconvert_exporter": "python",
   "pygments_lexer": "ipython2",
   "version": "2.7.6"
  }
 },
 "nbformat": 4,
 "nbformat_minor": 5
}
